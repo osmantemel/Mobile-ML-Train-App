{
 "cells": [
  {
   "cell_type": "code",
   "execution_count": 6,
   "metadata": {},
   "outputs": [],
   "source": [
    "import pandas as pd\n",
    "import joblib\n",
    "from sklearn.ensemble import RandomForestRegressor, RandomForestClassifier\n",
    "from sklearn.metrics import accuracy_score, mean_squared_error\n",
    "from sklearn.metrics import accuracy_score\n",
    "from sklearn.model_selection import train_test_split\n"
   ]
  },
  {
   "cell_type": "code",
   "execution_count": 7,
   "metadata": {},
   "outputs": [],
   "source": [
    "def model_egit(X_train, X_test, y_train, y_test, model_turu):\n",
    "    if model_turu == 'regresyon':\n",
    "        model = RandomForestRegressor(random_state=42)\n",
    "        model.fit(X_train, y_train)\n",
    "        tahminler = model.predict(X_test)\n",
    "        hata_metriği = mean_squared_error(y_test, tahminler)\n",
    "        print(\"Modelin ortalama karesel hatası:\", hata_metriği)\n",
    "        \n",
    "    elif model_turu == 'sınıflandırma':\n",
    "        model = RandomForestClassifier(random_state=42)\n",
    "        model.fit(X_train, y_train)\n",
    "        tahminler = model.predict(X_test)\n",
    "        dogruluk_skoru = accuracy_score(y_test, tahminler)\n",
    "        print(\"Modelin doğruluk skoru:\", dogruluk_skoru)\n",
    "        \n",
    "    else:\n",
    "        raise ValueError(\"Geçersiz model türü. 'regresyon' veya 'sınıflandırma' olmalıdır.\")\n",
    "    \n",
    "    return model\n",
    "\n",
    "\n",
    "\n",
    "def verisetini_bol(etiket, veri, test_boyutu=0.2, rastgele_durum=None):\n",
    "    X = veri.drop(columns=[etiket])\n",
    "    y = veri[etiket]\n",
    "\n",
    "    X_train, X_test, y_train, y_test = train_test_split(X, y, test_size=test_boyutu, random_state=rastgele_durum)\n",
    "\n",
    "    return X_train, X_test, y_train, y_test"
   ]
  },
  {
   "cell_type": "code",
   "execution_count": 8,
   "metadata": {},
   "outputs": [
    {
     "name": "stdout",
     "output_type": "stream",
     "text": [
      "Modelin ortalama karesel hatası: 10319.868919000002\n"
     ]
    }
   ],
   "source": [
    "\n",
    "dataset = pd.read_csv(\"carpma_veri_seti.csv\")\n",
    "X_train, X_test, y_train, y_test=verisetini_bol(\"sonuc\", dataset)\n",
    "model=model_egit(X_train, X_test, y_train, y_test,'regresyon')\n",
    "tahminler = model.predict(X_test)\n",
    "\n",
    "\n",
    "\n"
   ]
  },
  {
   "cell_type": "code",
   "execution_count": 10,
   "metadata": {},
   "outputs": [
    {
     "name": "stderr",
     "output_type": "stream",
     "text": [
      "c:\\Users\\Osman\\AppData\\Local\\Programs\\Python\\Python311\\Lib\\site-packages\\sklearn\\base.py:493: UserWarning: X does not have valid feature names, but RandomForestRegressor was fitted with feature names\n",
      "  warnings.warn(\n"
     ]
    },
    {
     "data": {
      "text/plain": [
       "array([24.2])"
      ]
     },
     "execution_count": 10,
     "metadata": {},
     "output_type": "execute_result"
    }
   ],
   "source": [
    "tahmin = model.predict([[4,4]])\n",
    "tahmin"
   ]
  },
  {
   "cell_type": "code",
   "execution_count": 11,
   "metadata": {},
   "outputs": [
    {
     "data": {
      "text/plain": [
       "['model.pkl']"
      ]
     },
     "execution_count": 11,
     "metadata": {},
     "output_type": "execute_result"
    }
   ],
   "source": [
    "\n",
    "model_filename = 'model.pkl'\n",
    "joblib.dump(model, model_filename)"
   ]
  }
 ],
 "metadata": {
  "kernelspec": {
   "display_name": "Python 3",
   "language": "python",
   "name": "python3"
  },
  "language_info": {
   "codemirror_mode": {
    "name": "ipython",
    "version": 3
   },
   "file_extension": ".py",
   "mimetype": "text/x-python",
   "name": "python",
   "nbconvert_exporter": "python",
   "pygments_lexer": "ipython3",
   "version": "3.11.8"
  }
 },
 "nbformat": 4,
 "nbformat_minor": 2
}
