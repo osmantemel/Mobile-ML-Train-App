{
 "cells": [
  {
   "cell_type": "code",
   "execution_count": 1,
   "metadata": {},
   "outputs": [],
   "source": [
    "import pandas as pd\n",
    "import numpy as np"
   ]
  },
  {
   "cell_type": "code",
   "execution_count": 2,
   "metadata": {},
   "outputs": [],
   "source": [
    "data = pd.read_csv(\"woocommerce-ornek-urun-turkce.csv\")"
   ]
  },
  {
   "cell_type": "code",
   "execution_count": 4,
   "metadata": {},
   "outputs": [
    {
     "data": {
      "text/plain": [
       "(28, 51)"
      ]
     },
     "execution_count": 4,
     "metadata": {},
     "output_type": "execute_result"
    }
   ],
   "source": [
    "data.shape"
   ]
  },
  {
   "cell_type": "code",
   "execution_count": 5,
   "metadata": {},
   "outputs": [
    {
     "data": {
      "text/plain": [
       "Index(['Kimlik', 'Tür', 'Stok kodu (SKU)', 'İsim', 'Yayımlanmış', 'Öne çıkan?',\n",
       "       'Katalogda görünürlük', 'Kısa açıklama', 'Açıklama',\n",
       "       'İndirimli fiyatın başladığı tarih', 'İndirimli fiyatın bittiği tarih',\n",
       "       'Vergi durumu', 'Vergi sınıfı', 'Stokta?', 'Stok', 'Düşük stok miktarı',\n",
       "       'Yok satmaya izin?', 'Ayrı ayrı mı satılıyor?', 'Ağırlık (kg)',\n",
       "       'Uzunluk (cm)', 'Genişlik (cm)', 'Yükseklik (cm)',\n",
       "       'Müşteri yorumlarına izin?', 'Satın alma notu',\n",
       "       'İndirimli satış fiyatı', 'Normal fiyat', 'Kategoriler', 'Etiketler',\n",
       "       'Gönderim sınıfı', 'Görseller', 'İndirme sınırı',\n",
       "       'İndirme sona erme günü', 'Ebeveyn', 'Gruplanmış ürünler',\n",
       "       'Yukarı satışlar', 'Çapraz satışlar', 'Harici URL', 'Düğme metni',\n",
       "       'Konum', 'İndirme 1 ismi', 'İndirme 1 URL'si', 'Nitelik 1 ismi',\n",
       "       'Nitelik 1 değer(ler)i', 'Nitelik 1 görünür', 'Nitelik 1 genel',\n",
       "       'Nitelik 1 varsayılan', 'Nitelik 2 ismi', 'Nitelik 2 değer(ler)i',\n",
       "       'Nitelik 2 görünür', 'Nitelik 2 genel', 'Nitelik 2 varsayılan'],\n",
       "      dtype='object')"
      ]
     },
     "execution_count": 5,
     "metadata": {},
     "output_type": "execute_result"
    }
   ],
   "source": [
    "data.columns"
   ]
  },
  {
   "cell_type": "code",
   "execution_count": 20,
   "metadata": {},
   "outputs": [
    {
     "data": {
      "text/plain": [
       "308"
      ]
     },
     "execution_count": 20,
     "metadata": {},
     "output_type": "execute_result"
    }
   ],
   "source": [
    "data.isna().sum().sum()"
   ]
  },
  {
   "cell_type": "code",
   "execution_count": 19,
   "metadata": {},
   "outputs": [],
   "source": [
    "data= data.fillna(data.mode().iloc[0])"
   ]
  },
  {
   "cell_type": "code",
   "execution_count": null,
   "metadata": {},
   "outputs": [],
   "source": []
  }
 ],
 "metadata": {
  "kernelspec": {
   "display_name": "Python 3",
   "language": "python",
   "name": "python3"
  },
  "language_info": {
   "codemirror_mode": {
    "name": "ipython",
    "version": 3
   },
   "file_extension": ".py",
   "mimetype": "text/x-python",
   "name": "python",
   "nbconvert_exporter": "python",
   "pygments_lexer": "ipython3",
   "version": "3.11.8"
  }
 },
 "nbformat": 4,
 "nbformat_minor": 2
}
